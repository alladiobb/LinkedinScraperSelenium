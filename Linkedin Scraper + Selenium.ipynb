{
 "cells": [
  {
   "cell_type": "code",
   "execution_count": 9,
   "id": "397bf047-8fb5-49d5-81eb-761196b9a137",
   "metadata": {
    "tags": []
   },
   "outputs": [
    {
     "ename": "NameError",
     "evalue": "name 'Sleep' is not defined",
     "output_type": "error",
     "traceback": [
      "\u001b[1;31m---------------------------------------------------------------------------\u001b[0m",
      "\u001b[1;31mNameError\u001b[0m                                 Traceback (most recent call last)",
      "Cell \u001b[1;32mIn[9], line 33\u001b[0m\n\u001b[0;32m     30\u001b[0m username\u001b[38;5;241m.\u001b[39msend_keys(\u001b[38;5;124m'\u001b[39m\u001b[38;5;124malladio_bonesso@hotmail.com\u001b[39m\u001b[38;5;124m'\u001b[39m)\n\u001b[0;32m     32\u001b[0m \u001b[38;5;66;03m#Sleep\u001b[39;00m\n\u001b[1;32m---> 33\u001b[0m \u001b[43mSleep\u001b[49m(\u001b[38;5;241m1\u001b[39m)\n\u001b[0;32m     35\u001b[0m \u001b[38;5;66;03m#locate password form by_class_name\u001b[39;00m\n\u001b[0;32m     36\u001b[0m password \u001b[38;5;241m=\u001b[39m driver\u001b[38;5;241m.\u001b[39mfind_element(By\u001b[38;5;241m.\u001b[39mID, \u001b[38;5;124m'\u001b[39m\u001b[38;5;124msession_password\u001b[39m\u001b[38;5;124m'\u001b[39m)\n",
      "\u001b[1;31mNameError\u001b[0m: name 'Sleep' is not defined"
     ]
    }
   ],
   "source": [
    "import numpy as np\n",
    "from parsel import Selector\n",
    "from time import sleep\n",
    "from selenium import webdriver\n",
    "from selenium.webdriver.common.by import By\n",
    "from selenium.webdriver.support.ui import WebDriverWait\n",
    "from selenium.webdriver.support import expected_conditions as EC\n",
    "from selenium.webdriver.chrome.options import Options\n",
    "from selenium.webdriver.common.keys import Keys\n",
    "\n",
    "#opts = Options()\n",
    "#driver = webdriver.Chrome(options=opts, executable_path='chromedriver')\n",
    "driver = webdriver.Chrome()\n",
    "\n",
    "#Function to ensure all key data fields have a value\n",
    "def validate_field(field):\n",
    "    #if field is present pass if field:\n",
    "    if field:\n",
    "        pass\n",
    "    else:\n",
    "        field = \"No results\"\n",
    "    return field\n",
    "\n",
    "#driver.get method() will navigate to a page given by the URL address\n",
    "driver.get('https://www.linkedin.com')\n",
    "\n",
    "\n",
    "#locate password form by_class_name\n",
    "password = driver.find_element(By.ID, 'session_password')\n",
    "\n",
    "\n",
    "#Sleep\n",
    "Sleep(1)\n",
    "\n",
    "#send_keys() to simulate key strokes\n",
    "password.send_keys('0123456')\n",
    "\n",
    "#locate email form by_class_name\n",
    "username = driver.find_element(By.ID, \"session_key\")\n",
    "\n",
    "username.send_keys('alladio_bonesso@hotmail.com')\n",
    "\n",
    "\n",
    "#locate password form by_class_name\n",
    "password = driver.find_element(By.ID, 'session_password')\n",
    "\n",
    "\n",
    "#send_keys() to simulate key strokes\n",
    "password.send_keys('0123456')\n",
    "\n",
    "#locate submit button by_xpath\n",
    "sign_in_button = driver.find_element(By.XPATH,'//*[@type=\"submit\"]')\n",
    "\n",
    "#.click()\n",
    "sign_in_button.click()\n",
    "sleep(15)\n",
    "\n",
    "\n",
    "password.send_keys()"
   ]
  },
  {
   "cell_type": "code",
   "execution_count": null,
   "id": "521a6391-8204-41ae-8a0a-de318f4dfbc5",
   "metadata": {},
   "outputs": [],
   "source": []
  }
 ],
 "metadata": {
  "kernelspec": {
   "display_name": "Python 3 (ipykernel)",
   "language": "python",
   "name": "python3"
  },
  "language_info": {
   "codemirror_mode": {
    "name": "ipython",
    "version": 3
   },
   "file_extension": ".py",
   "mimetype": "text/x-python",
   "name": "python",
   "nbconvert_exporter": "python",
   "pygments_lexer": "ipython3",
   "version": "3.12.0"
  }
 },
 "nbformat": 4,
 "nbformat_minor": 5
}
